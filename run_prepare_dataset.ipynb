{
 "cells": [
  {
   "cell_type": "code",
   "execution_count": 1,
   "id": "599f9276-5ea4-4f08-9c5c-54c1a28980c1",
   "metadata": {
    "tags": []
   },
   "outputs": [
    {
     "name": "stdout",
     "output_type": "stream",
     "text": [
      "Looking in indexes: https://pypi.tuna.tsinghua.edu.cn/simple\n",
      "Collecting git+https://github.com/moises-ai/moises-db.git\n",
      "  Cloning https://github.com/moises-ai/moises-db.git to /tmp/pip-req-build-td_qcj_p\n",
      "  Running command git clone --filter=blob:none --quiet https://github.com/moises-ai/moises-db.git /tmp/pip-req-build-td_qcj_p\n",
      "  Resolved https://github.com/moises-ai/moises-db.git to commit 7577c73577f3ba0c9c13a170e2557713619c41ce\n",
      "  Installing build dependencies ... \u001b[?25ldone\n",
      "\u001b[?25h  Getting requirements to build wheel ... \u001b[?25ldone\n",
      "\u001b[?25h  Preparing metadata (pyproject.toml) ... \u001b[?25ldone\n",
      "\u001b[?25hRequirement already satisfied: librosa>=0.9.2 in /opt/conda/lib/python3.9/site-packages (from moises-db==0.0.3) (0.10.1)\n",
      "Requirement already satisfied: gcsfs>=2022.8.2 in /opt/conda/lib/python3.9/site-packages (from moises-db==0.0.3) (2024.2.0)\n",
      "Requirement already satisfied: tqdm>=4.64.1 in /opt/conda/lib/python3.9/site-packages (from moises-db==0.0.3) (4.64.1)\n",
      "Requirement already satisfied: scipy>=1.9.3 in /opt/conda/lib/python3.9/site-packages (from moises-db==0.0.3) (1.11.4)\n",
      "Requirement already satisfied: pandas>=1.5.1 in /opt/conda/lib/python3.9/site-packages (from moises-db==0.0.3) (2.2.1)\n",
      "Requirement already satisfied: fsspec>=2022.8.2 in /opt/conda/lib/python3.9/site-packages (from moises-db==0.0.3) (2024.2.0)\n",
      "Requirement already satisfied: decorator>4.1.2 in /opt/conda/lib/python3.9/site-packages (from gcsfs>=2022.8.2->moises-db==0.0.3) (5.1.1)\n",
      "Requirement already satisfied: google-cloud-storage in /opt/conda/lib/python3.9/site-packages (from gcsfs>=2022.8.2->moises-db==0.0.3) (2.15.0)\n",
      "Requirement already satisfied: google-auth-oauthlib in /opt/conda/lib/python3.9/site-packages (from gcsfs>=2022.8.2->moises-db==0.0.3) (0.4.6)\n",
      "Requirement already satisfied: requests in /opt/conda/lib/python3.9/site-packages (from gcsfs>=2022.8.2->moises-db==0.0.3) (2.28.1)\n",
      "Requirement already satisfied: aiohttp!=4.0.0a0,!=4.0.0a1 in /opt/conda/lib/python3.9/site-packages (from gcsfs>=2022.8.2->moises-db==0.0.3) (3.9.1)\n",
      "Requirement already satisfied: google-auth>=1.2 in /opt/conda/lib/python3.9/site-packages (from gcsfs>=2022.8.2->moises-db==0.0.3) (2.28.1)\n",
      "Requirement already satisfied: audioread>=2.1.9 in /opt/conda/lib/python3.9/site-packages (from librosa>=0.9.2->moises-db==0.0.3) (3.0.1)\n",
      "Requirement already satisfied: soxr>=0.3.2 in /opt/conda/lib/python3.9/site-packages (from librosa>=0.9.2->moises-db==0.0.3) (0.3.7)\n",
      "Requirement already satisfied: lazy-loader>=0.1 in /opt/conda/lib/python3.9/site-packages (from librosa>=0.9.2->moises-db==0.0.3) (0.3)\n",
      "Requirement already satisfied: scikit-learn>=0.20.0 in /opt/conda/lib/python3.9/site-packages (from librosa>=0.9.2->moises-db==0.0.3) (1.3.2)\n",
      "Requirement already satisfied: numpy!=1.22.0,!=1.22.1,!=1.22.2,>=1.20.3 in /opt/conda/lib/python3.9/site-packages (from librosa>=0.9.2->moises-db==0.0.3) (1.24.2)\n",
      "Requirement already satisfied: msgpack>=1.0 in /opt/conda/lib/python3.9/site-packages (from librosa>=0.9.2->moises-db==0.0.3) (1.0.7)\n",
      "Requirement already satisfied: soundfile>=0.12.1 in /opt/conda/lib/python3.9/site-packages (from librosa>=0.9.2->moises-db==0.0.3) (0.12.1)\n",
      "Requirement already satisfied: joblib>=0.14 in /opt/conda/lib/python3.9/site-packages (from librosa>=0.9.2->moises-db==0.0.3) (1.3.2)\n",
      "Requirement already satisfied: pooch>=1.0 in /opt/conda/lib/python3.9/site-packages (from librosa>=0.9.2->moises-db==0.0.3) (1.8.0)\n",
      "Requirement already satisfied: typing-extensions>=4.1.1 in /opt/conda/lib/python3.9/site-packages (from librosa>=0.9.2->moises-db==0.0.3) (4.10.0)\n",
      "Requirement already satisfied: numba>=0.51.0 in /opt/conda/lib/python3.9/site-packages (from librosa>=0.9.2->moises-db==0.0.3) (0.58.1)\n",
      "Requirement already satisfied: tzdata>=2022.7 in /opt/conda/lib/python3.9/site-packages (from pandas>=1.5.1->moises-db==0.0.3) (2024.1)\n",
      "Requirement already satisfied: pytz>=2020.1 in /opt/conda/lib/python3.9/site-packages (from pandas>=1.5.1->moises-db==0.0.3) (2024.1)\n",
      "Requirement already satisfied: python-dateutil>=2.8.2 in /opt/conda/lib/python3.9/site-packages (from pandas>=1.5.1->moises-db==0.0.3) (2.8.2)\n",
      "Requirement already satisfied: async-timeout<5.0,>=4.0 in /opt/conda/lib/python3.9/site-packages (from aiohttp!=4.0.0a0,!=4.0.0a1->gcsfs>=2022.8.2->moises-db==0.0.3) (4.0.3)\n",
      "Requirement already satisfied: yarl<2.0,>=1.0 in /opt/conda/lib/python3.9/site-packages (from aiohttp!=4.0.0a0,!=4.0.0a1->gcsfs>=2022.8.2->moises-db==0.0.3) (1.9.4)\n",
      "Requirement already satisfied: aiosignal>=1.1.2 in /opt/conda/lib/python3.9/site-packages (from aiohttp!=4.0.0a0,!=4.0.0a1->gcsfs>=2022.8.2->moises-db==0.0.3) (1.3.1)\n",
      "Requirement already satisfied: frozenlist>=1.1.1 in /opt/conda/lib/python3.9/site-packages (from aiohttp!=4.0.0a0,!=4.0.0a1->gcsfs>=2022.8.2->moises-db==0.0.3) (1.4.1)\n",
      "Requirement already satisfied: multidict<7.0,>=4.5 in /opt/conda/lib/python3.9/site-packages (from aiohttp!=4.0.0a0,!=4.0.0a1->gcsfs>=2022.8.2->moises-db==0.0.3) (6.0.4)\n",
      "Requirement already satisfied: attrs>=17.3.0 in /opt/conda/lib/python3.9/site-packages (from aiohttp!=4.0.0a0,!=4.0.0a1->gcsfs>=2022.8.2->moises-db==0.0.3) (22.2.0)\n",
      "Requirement already satisfied: cachetools<6.0,>=2.0.0 in /opt/conda/lib/python3.9/site-packages (from google-auth>=1.2->gcsfs>=2022.8.2->moises-db==0.0.3) (5.3.0)\n",
      "Requirement already satisfied: rsa<5,>=3.1.4 in /opt/conda/lib/python3.9/site-packages (from google-auth>=1.2->gcsfs>=2022.8.2->moises-db==0.0.3) (4.9)\n",
      "Requirement already satisfied: pyasn1-modules>=0.2.1 in /opt/conda/lib/python3.9/site-packages (from google-auth>=1.2->gcsfs>=2022.8.2->moises-db==0.0.3) (0.2.8)\n",
      "Requirement already satisfied: llvmlite<0.42,>=0.41.0dev0 in /opt/conda/lib/python3.9/site-packages (from numba>=0.51.0->librosa>=0.9.2->moises-db==0.0.3) (0.41.1)\n",
      "Requirement already satisfied: packaging>=20.0 in /opt/conda/lib/python3.9/site-packages (from pooch>=1.0->librosa>=0.9.2->moises-db==0.0.3) (23.0)\n",
      "Requirement already satisfied: platformdirs>=2.5.0 in /opt/conda/lib/python3.9/site-packages (from pooch>=1.0->librosa>=0.9.2->moises-db==0.0.3) (3.1.1)\n",
      "Requirement already satisfied: six>=1.5 in /opt/conda/lib/python3.9/site-packages (from python-dateutil>=2.8.2->pandas>=1.5.1->moises-db==0.0.3) (1.16.0)\n",
      "Requirement already satisfied: charset-normalizer<3,>=2 in /opt/conda/lib/python3.9/site-packages (from requests->gcsfs>=2022.8.2->moises-db==0.0.3) (2.0.4)\n",
      "Requirement already satisfied: certifi>=2017.4.17 in /opt/conda/lib/python3.9/site-packages (from requests->gcsfs>=2022.8.2->moises-db==0.0.3) (2022.12.7)\n",
      "Requirement already satisfied: urllib3<1.27,>=1.21.1 in /opt/conda/lib/python3.9/site-packages (from requests->gcsfs>=2022.8.2->moises-db==0.0.3) (1.26.14)\n",
      "Requirement already satisfied: idna<4,>=2.5 in /opt/conda/lib/python3.9/site-packages (from requests->gcsfs>=2022.8.2->moises-db==0.0.3) (3.4)\n",
      "Requirement already satisfied: threadpoolctl>=2.0.0 in /opt/conda/lib/python3.9/site-packages (from scikit-learn>=0.20.0->librosa>=0.9.2->moises-db==0.0.3) (3.2.0)\n",
      "Requirement already satisfied: cffi>=1.0 in /opt/conda/lib/python3.9/site-packages (from soundfile>=0.12.1->librosa>=0.9.2->moises-db==0.0.3) (1.15.1)\n",
      "Requirement already satisfied: requests-oauthlib>=0.7.0 in /opt/conda/lib/python3.9/site-packages (from google-auth-oauthlib->gcsfs>=2022.8.2->moises-db==0.0.3) (1.3.1)\n",
      "Requirement already satisfied: google-resumable-media>=2.6.0 in /opt/conda/lib/python3.9/site-packages (from google-cloud-storage->gcsfs>=2022.8.2->moises-db==0.0.3) (2.7.0)\n",
      "Requirement already satisfied: google-cloud-core<3.0dev,>=2.3.0 in /opt/conda/lib/python3.9/site-packages (from google-cloud-storage->gcsfs>=2022.8.2->moises-db==0.0.3) (2.4.1)\n",
      "Requirement already satisfied: google-crc32c<2.0dev,>=1.0 in /opt/conda/lib/python3.9/site-packages (from google-cloud-storage->gcsfs>=2022.8.2->moises-db==0.0.3) (1.5.0)\n",
      "Requirement already satisfied: google-api-core<3.0.0dev,>=2.15.0 in /opt/conda/lib/python3.9/site-packages (from google-cloud-storage->gcsfs>=2022.8.2->moises-db==0.0.3) (2.17.1)\n",
      "Requirement already satisfied: pycparser in /opt/conda/lib/python3.9/site-packages (from cffi>=1.0->soundfile>=0.12.1->librosa>=0.9.2->moises-db==0.0.3) (2.21)\n",
      "Requirement already satisfied: protobuf!=3.20.0,!=3.20.1,!=4.21.0,!=4.21.1,!=4.21.2,!=4.21.3,!=4.21.4,!=4.21.5,<5.0.0.dev0,>=3.19.5 in /opt/conda/lib/python3.9/site-packages (from google-api-core<3.0.0dev,>=2.15.0->google-cloud-storage->gcsfs>=2022.8.2->moises-db==0.0.3) (4.22.1)\n",
      "Requirement already satisfied: googleapis-common-protos<2.0.dev0,>=1.56.2 in /opt/conda/lib/python3.9/site-packages (from google-api-core<3.0.0dev,>=2.15.0->google-cloud-storage->gcsfs>=2022.8.2->moises-db==0.0.3) (1.62.0)\n",
      "Requirement already satisfied: pyasn1<0.5.0,>=0.4.6 in /opt/conda/lib/python3.9/site-packages (from pyasn1-modules>=0.2.1->google-auth>=1.2->gcsfs>=2022.8.2->moises-db==0.0.3) (0.4.8)\n",
      "Requirement already satisfied: oauthlib>=3.0.0 in /opt/conda/lib/python3.9/site-packages (from requests-oauthlib>=0.7.0->google-auth-oauthlib->gcsfs>=2022.8.2->moises-db==0.0.3) (3.2.2)\n",
      "\u001b[33mWARNING: Running pip as the 'root' user can result in broken permissions and conflicting behaviour with the system package manager. It is recommended to use a virtual environment instead: https://pip.pypa.io/warnings/venv\u001b[0m\u001b[33m\n",
      "\u001b[0m\n",
      "\u001b[1m[\u001b[0m\u001b[34;49mnotice\u001b[0m\u001b[1;39;49m]\u001b[0m\u001b[39;49m A new release of pip is available: \u001b[0m\u001b[31;49m23.0.1\u001b[0m\u001b[39;49m -> \u001b[0m\u001b[32;49m24.0\u001b[0m\n",
      "\u001b[1m[\u001b[0m\u001b[34;49mnotice\u001b[0m\u001b[1;39;49m]\u001b[0m\u001b[39;49m To update, run: \u001b[0m\u001b[32;49mpip install --upgrade pip\u001b[0m\n"
     ]
    }
   ],
   "source": [
    "!pip install git+https://github.com/moises-ai/moises-db.git"
   ]
  },
  {
   "cell_type": "code",
   "execution_count": null,
   "id": "c9a9472f-6805-43dc-bafe-e2f189bebf35",
   "metadata": {
    "tags": []
   },
   "outputs": [
    {
     "name": "stdout",
     "output_type": "stream",
     "text": [
      "Loading tracks info from provider moisesdb_v0.1: 100%|█| 240/240 [00:00<00:00, 1\n",
      " 31%|█████████████▍                             | 15/48 [01:48<04:21,  7.92s/it]"
     ]
    }
   ],
   "source": [
    "!python prepare_moisesdb_dataset.py"
   ]
  },
  {
   "cell_type": "code",
   "execution_count": null,
   "id": "0dd75ee6-def7-49c8-8b4a-6641f6973f7e",
   "metadata": {},
   "outputs": [],
   "source": []
  }
 ],
 "metadata": {
  "kernelspec": {
   "display_name": "Python 3 (ipykernel)",
   "language": "python",
   "name": "python3"
  },
  "language_info": {
   "codemirror_mode": {
    "name": "ipython",
    "version": 3
   },
   "file_extension": ".py",
   "mimetype": "text/x-python",
   "name": "python",
   "nbconvert_exporter": "python",
   "pygments_lexer": "ipython3",
   "version": "3.9.16"
  }
 },
 "nbformat": 4,
 "nbformat_minor": 5
}
