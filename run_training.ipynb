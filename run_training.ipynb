{
 "cells": [
  {
   "cell_type": "code",
   "execution_count": null,
   "id": "a0166ef1-f61c-4f95-8efa-f8a3bf3ead9a",
   "metadata": {
    "tags": []
   },
   "outputs": [],
   "source": [
    "# !pip install --quiet hydra-core\n",
    "# !pip install --quiet einops\n",
    "# !pip install --quiet beartype\n",
    "# !pip install --quiet rotary_embedding_torch\n",
    "# !pip install --quiet librosa\n",
    "# !pip install --quiet pytorch-lightning\n",
    "# !pip uninstall --quiet --yes torch\n",
    "# !pip install --quiet torch\n",
    "# !pip uninstall --quiet --yes torchaudio\n",
    "# !pip install --quiet torchaudio\n",
    "# !pip uninstall --quiet --yes torchvision\n",
    "# !pip install --quiet torchvision"
   ]
  },
  {
   "cell_type": "code",
   "execution_count": null,
   "id": "b4224b7a-c6b7-4325-8ff0-0283ae7ea523",
   "metadata": {
    "tags": []
   },
   "outputs": [],
   "source": [
    "!python main.py"
   ]
  },
  {
   "cell_type": "code",
   "execution_count": null,
   "id": "56aa5fa8-61a6-46c5-8f42-936ac4eeae6e",
   "metadata": {
    "tags": []
   },
   "outputs": [],
   "source": [
    "!python train.py"
   ]
  },
  {
   "cell_type": "code",
   "execution_count": null,
   "id": "f7555f09-6323-4110-9ad5-c07ce127cdb3",
   "metadata": {},
   "outputs": [],
   "source": []
  }
 ],
 "metadata": {
  "kernelspec": {
   "display_name": "Python 3 (ipykernel)",
   "language": "python",
   "name": "python3"
  },
  "language_info": {
   "codemirror_mode": {
    "name": "ipython",
    "version": 3
   },
   "file_extension": ".py",
   "mimetype": "text/x-python",
   "name": "python",
   "nbconvert_exporter": "python",
   "pygments_lexer": "ipython3",
   "version": "3.9.16"
  }
 },
 "nbformat": 4,
 "nbformat_minor": 5
}
